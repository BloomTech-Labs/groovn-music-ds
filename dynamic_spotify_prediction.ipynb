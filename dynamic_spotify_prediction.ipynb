{
 "cells": [
  {
   "cell_type": "markdown",
   "metadata": {},
   "source": [
    "# Import Package & Read in data"
   ]
  },
  {
   "cell_type": "code",
   "execution_count": 18,
   "metadata": {
    "ExecuteTime": {
     "end_time": "2020-01-10T04:45:26.017180Z",
     "start_time": "2020-01-10T04:45:25.080791Z"
    }
   },
   "outputs": [
    {
     "data": {
      "text/html": [
       "<div>\n",
       "<style scoped>\n",
       "    .dataframe tbody tr th:only-of-type {\n",
       "        vertical-align: middle;\n",
       "    }\n",
       "\n",
       "    .dataframe tbody tr th {\n",
       "        vertical-align: top;\n",
       "    }\n",
       "\n",
       "    .dataframe thead th {\n",
       "        text-align: right;\n",
       "    }\n",
       "</style>\n",
       "<table border=\"1\" class=\"dataframe\">\n",
       "  <thead>\n",
       "    <tr style=\"text-align: right;\">\n",
       "      <th></th>\n",
       "      <th>artist_name</th>\n",
       "      <th>track_id</th>\n",
       "      <th>track_name</th>\n",
       "      <th>acousticness</th>\n",
       "      <th>danceability</th>\n",
       "      <th>duration_ms</th>\n",
       "      <th>energy</th>\n",
       "      <th>instrumentalness</th>\n",
       "      <th>key</th>\n",
       "      <th>liveness</th>\n",
       "      <th>loudness</th>\n",
       "      <th>mode</th>\n",
       "      <th>speechiness</th>\n",
       "      <th>tempo</th>\n",
       "      <th>time_signature</th>\n",
       "      <th>valence</th>\n",
       "      <th>popularity</th>\n",
       "    </tr>\n",
       "  </thead>\n",
       "  <tbody>\n",
       "    <tr>\n",
       "      <th>0</th>\n",
       "      <td>YG</td>\n",
       "      <td>2RM4jf1Xa9zPgMGRDiht8O</td>\n",
       "      <td>Big Bank feat. 2 Chainz, Big Sean, Nicki Minaj</td>\n",
       "      <td>0.005820</td>\n",
       "      <td>0.743</td>\n",
       "      <td>238373</td>\n",
       "      <td>0.339</td>\n",
       "      <td>0.000</td>\n",
       "      <td>1</td>\n",
       "      <td>0.0812</td>\n",
       "      <td>-7.678</td>\n",
       "      <td>1</td>\n",
       "      <td>0.4090</td>\n",
       "      <td>203.927</td>\n",
       "      <td>4</td>\n",
       "      <td>0.118</td>\n",
       "      <td>15</td>\n",
       "    </tr>\n",
       "    <tr>\n",
       "      <th>1</th>\n",
       "      <td>YG</td>\n",
       "      <td>1tHDG53xJNGsItRA3vfVgs</td>\n",
       "      <td>BAND DRUM (feat. A$AP Rocky)</td>\n",
       "      <td>0.024400</td>\n",
       "      <td>0.846</td>\n",
       "      <td>214800</td>\n",
       "      <td>0.557</td>\n",
       "      <td>0.000</td>\n",
       "      <td>8</td>\n",
       "      <td>0.2860</td>\n",
       "      <td>-7.259</td>\n",
       "      <td>1</td>\n",
       "      <td>0.4570</td>\n",
       "      <td>159.009</td>\n",
       "      <td>4</td>\n",
       "      <td>0.371</td>\n",
       "      <td>0</td>\n",
       "    </tr>\n",
       "    <tr>\n",
       "      <th>2</th>\n",
       "      <td>R3HAB</td>\n",
       "      <td>6Wosx2euFPMT14UXiWudMy</td>\n",
       "      <td>Radio Silence</td>\n",
       "      <td>0.025000</td>\n",
       "      <td>0.603</td>\n",
       "      <td>138913</td>\n",
       "      <td>0.723</td>\n",
       "      <td>0.000</td>\n",
       "      <td>9</td>\n",
       "      <td>0.0824</td>\n",
       "      <td>-5.890</td>\n",
       "      <td>0</td>\n",
       "      <td>0.0454</td>\n",
       "      <td>114.966</td>\n",
       "      <td>4</td>\n",
       "      <td>0.382</td>\n",
       "      <td>56</td>\n",
       "    </tr>\n",
       "    <tr>\n",
       "      <th>3</th>\n",
       "      <td>Chris Cooq</td>\n",
       "      <td>3J2Jpw61sO7l6Hc7qdYV91</td>\n",
       "      <td>Lactose</td>\n",
       "      <td>0.029400</td>\n",
       "      <td>0.800</td>\n",
       "      <td>125381</td>\n",
       "      <td>0.579</td>\n",
       "      <td>0.912</td>\n",
       "      <td>5</td>\n",
       "      <td>0.0994</td>\n",
       "      <td>-12.118</td>\n",
       "      <td>0</td>\n",
       "      <td>0.0701</td>\n",
       "      <td>123.003</td>\n",
       "      <td>4</td>\n",
       "      <td>0.641</td>\n",
       "      <td>0</td>\n",
       "    </tr>\n",
       "    <tr>\n",
       "      <th>4</th>\n",
       "      <td>Chris Cooq</td>\n",
       "      <td>2jbYvQCyPgX3CdmAzeVeuS</td>\n",
       "      <td>Same - Original mix</td>\n",
       "      <td>0.000035</td>\n",
       "      <td>0.783</td>\n",
       "      <td>124016</td>\n",
       "      <td>0.792</td>\n",
       "      <td>0.878</td>\n",
       "      <td>7</td>\n",
       "      <td>0.0332</td>\n",
       "      <td>-10.277</td>\n",
       "      <td>1</td>\n",
       "      <td>0.0661</td>\n",
       "      <td>120.047</td>\n",
       "      <td>4</td>\n",
       "      <td>0.928</td>\n",
       "      <td>0</td>\n",
       "    </tr>\n",
       "  </tbody>\n",
       "</table>\n",
       "</div>"
      ],
      "text/plain": [
       "  artist_name                track_id  \\\n",
       "0          YG  2RM4jf1Xa9zPgMGRDiht8O   \n",
       "1          YG  1tHDG53xJNGsItRA3vfVgs   \n",
       "2       R3HAB  6Wosx2euFPMT14UXiWudMy   \n",
       "3  Chris Cooq  3J2Jpw61sO7l6Hc7qdYV91   \n",
       "4  Chris Cooq  2jbYvQCyPgX3CdmAzeVeuS   \n",
       "\n",
       "                                       track_name  acousticness  danceability  \\\n",
       "0  Big Bank feat. 2 Chainz, Big Sean, Nicki Minaj      0.005820         0.743   \n",
       "1                    BAND DRUM (feat. A$AP Rocky)      0.024400         0.846   \n",
       "2                                   Radio Silence      0.025000         0.603   \n",
       "3                                         Lactose      0.029400         0.800   \n",
       "4                             Same - Original mix      0.000035         0.783   \n",
       "\n",
       "   duration_ms  energy  instrumentalness  key  liveness  loudness  mode  \\\n",
       "0       238373   0.339             0.000    1    0.0812    -7.678     1   \n",
       "1       214800   0.557             0.000    8    0.2860    -7.259     1   \n",
       "2       138913   0.723             0.000    9    0.0824    -5.890     0   \n",
       "3       125381   0.579             0.912    5    0.0994   -12.118     0   \n",
       "4       124016   0.792             0.878    7    0.0332   -10.277     1   \n",
       "\n",
       "   speechiness    tempo  time_signature  valence  popularity  \n",
       "0       0.4090  203.927               4    0.118          15  \n",
       "1       0.4570  159.009               4    0.371           0  \n",
       "2       0.0454  114.966               4    0.382          56  \n",
       "3       0.0701  123.003               4    0.641           0  \n",
       "4       0.0661  120.047               4    0.928           0  "
      ]
     },
     "execution_count": 18,
     "metadata": {},
     "output_type": "execute_result"
    }
   ],
   "source": [
    "import pandas as pd\n",
    "df = pd.read_csv('data/SpotifyAudioFeatures2019.csv')\n",
    "df.head()"
   ]
  },
  {
   "cell_type": "markdown",
   "metadata": {},
   "source": [
    "# Data Wrangling"
   ]
  },
  {
   "cell_type": "code",
   "execution_count": 19,
   "metadata": {
    "ExecuteTime": {
     "end_time": "2020-01-10T04:45:27.872318Z",
     "start_time": "2020-01-10T04:45:27.691882Z"
    }
   },
   "outputs": [
    {
     "data": {
      "text/plain": [
       "0"
      ]
     },
     "execution_count": 19,
     "metadata": {},
     "output_type": "execute_result"
    }
   ],
   "source": [
    "df = df.dropna()\n",
    "df.isnull().sum().sum()"
   ]
  },
  {
   "cell_type": "code",
   "execution_count": 20,
   "metadata": {
    "ExecuteTime": {
     "end_time": "2020-01-10T04:45:28.650522Z",
     "start_time": "2020-01-10T04:45:28.583501Z"
    }
   },
   "outputs": [
    {
     "data": {
      "text/html": [
       "<div>\n",
       "<style scoped>\n",
       "    .dataframe tbody tr th:only-of-type {\n",
       "        vertical-align: middle;\n",
       "    }\n",
       "\n",
       "    .dataframe tbody tr th {\n",
       "        vertical-align: top;\n",
       "    }\n",
       "\n",
       "    .dataframe thead th {\n",
       "        text-align: right;\n",
       "    }\n",
       "</style>\n",
       "<table border=\"1\" class=\"dataframe\">\n",
       "  <thead>\n",
       "    <tr style=\"text-align: right;\">\n",
       "      <th></th>\n",
       "      <th>acousticness</th>\n",
       "      <th>danceability</th>\n",
       "      <th>duration_ms</th>\n",
       "      <th>energy</th>\n",
       "      <th>instrumentalness</th>\n",
       "      <th>key</th>\n",
       "      <th>liveness</th>\n",
       "      <th>loudness</th>\n",
       "      <th>mode</th>\n",
       "      <th>speechiness</th>\n",
       "      <th>tempo</th>\n",
       "      <th>time_signature</th>\n",
       "      <th>valence</th>\n",
       "      <th>popularity</th>\n",
       "    </tr>\n",
       "  </thead>\n",
       "  <tbody>\n",
       "    <tr>\n",
       "      <th>0</th>\n",
       "      <td>0.005820</td>\n",
       "      <td>0.743</td>\n",
       "      <td>238373</td>\n",
       "      <td>0.339</td>\n",
       "      <td>0.000</td>\n",
       "      <td>1</td>\n",
       "      <td>0.0812</td>\n",
       "      <td>-7.678</td>\n",
       "      <td>1</td>\n",
       "      <td>0.4090</td>\n",
       "      <td>203.927</td>\n",
       "      <td>4</td>\n",
       "      <td>0.118</td>\n",
       "      <td>15</td>\n",
       "    </tr>\n",
       "    <tr>\n",
       "      <th>1</th>\n",
       "      <td>0.024400</td>\n",
       "      <td>0.846</td>\n",
       "      <td>214800</td>\n",
       "      <td>0.557</td>\n",
       "      <td>0.000</td>\n",
       "      <td>8</td>\n",
       "      <td>0.2860</td>\n",
       "      <td>-7.259</td>\n",
       "      <td>1</td>\n",
       "      <td>0.4570</td>\n",
       "      <td>159.009</td>\n",
       "      <td>4</td>\n",
       "      <td>0.371</td>\n",
       "      <td>0</td>\n",
       "    </tr>\n",
       "    <tr>\n",
       "      <th>2</th>\n",
       "      <td>0.025000</td>\n",
       "      <td>0.603</td>\n",
       "      <td>138913</td>\n",
       "      <td>0.723</td>\n",
       "      <td>0.000</td>\n",
       "      <td>9</td>\n",
       "      <td>0.0824</td>\n",
       "      <td>-5.890</td>\n",
       "      <td>0</td>\n",
       "      <td>0.0454</td>\n",
       "      <td>114.966</td>\n",
       "      <td>4</td>\n",
       "      <td>0.382</td>\n",
       "      <td>56</td>\n",
       "    </tr>\n",
       "    <tr>\n",
       "      <th>3</th>\n",
       "      <td>0.029400</td>\n",
       "      <td>0.800</td>\n",
       "      <td>125381</td>\n",
       "      <td>0.579</td>\n",
       "      <td>0.912</td>\n",
       "      <td>5</td>\n",
       "      <td>0.0994</td>\n",
       "      <td>-12.118</td>\n",
       "      <td>0</td>\n",
       "      <td>0.0701</td>\n",
       "      <td>123.003</td>\n",
       "      <td>4</td>\n",
       "      <td>0.641</td>\n",
       "      <td>0</td>\n",
       "    </tr>\n",
       "    <tr>\n",
       "      <th>4</th>\n",
       "      <td>0.000035</td>\n",
       "      <td>0.783</td>\n",
       "      <td>124016</td>\n",
       "      <td>0.792</td>\n",
       "      <td>0.878</td>\n",
       "      <td>7</td>\n",
       "      <td>0.0332</td>\n",
       "      <td>-10.277</td>\n",
       "      <td>1</td>\n",
       "      <td>0.0661</td>\n",
       "      <td>120.047</td>\n",
       "      <td>4</td>\n",
       "      <td>0.928</td>\n",
       "      <td>0</td>\n",
       "    </tr>\n",
       "  </tbody>\n",
       "</table>\n",
       "</div>"
      ],
      "text/plain": [
       "   acousticness  danceability  duration_ms  energy  instrumentalness  key  \\\n",
       "0      0.005820         0.743       238373   0.339             0.000    1   \n",
       "1      0.024400         0.846       214800   0.557             0.000    8   \n",
       "2      0.025000         0.603       138913   0.723             0.000    9   \n",
       "3      0.029400         0.800       125381   0.579             0.912    5   \n",
       "4      0.000035         0.783       124016   0.792             0.878    7   \n",
       "\n",
       "   liveness  loudness  mode  speechiness    tempo  time_signature  valence  \\\n",
       "0    0.0812    -7.678     1       0.4090  203.927               4    0.118   \n",
       "1    0.2860    -7.259     1       0.4570  159.009               4    0.371   \n",
       "2    0.0824    -5.890     0       0.0454  114.966               4    0.382   \n",
       "3    0.0994   -12.118     0       0.0701  123.003               4    0.641   \n",
       "4    0.0332   -10.277     1       0.0661  120.047               4    0.928   \n",
       "\n",
       "   popularity  \n",
       "0          15  \n",
       "1           0  \n",
       "2          56  \n",
       "3           0  \n",
       "4           0  "
      ]
     },
     "execution_count": 20,
     "metadata": {},
     "output_type": "execute_result"
    }
   ],
   "source": [
    "df_features= df.drop(columns=['artist_name', 'track_id', 'track_name'])\n",
    "df_features.head()"
   ]
  },
  {
   "cell_type": "markdown",
   "metadata": {
    "ExecuteTime": {
     "end_time": "2019-12-04T03:28:26.561666Z",
     "start_time": "2019-12-04T03:28:26.557257Z"
    }
   },
   "source": [
    "# Create Prediction Model"
   ]
  },
  {
   "cell_type": "code",
   "execution_count": 21,
   "metadata": {
    "ExecuteTime": {
     "end_time": "2020-01-10T04:45:32.557028Z",
     "start_time": "2020-01-10T04:45:31.822607Z"
    }
   },
   "outputs": [],
   "source": [
    "from sklearn.preprocessing import RobustScaler\n",
    "from sklearn.neighbors import NearestNeighbors\n",
    "from sklearn.neighbors import KDTree\n",
    "scaler = RobustScaler()\n",
    "X = scaler.fit_transform(df_features)\n",
    "model = KDTree(X)"
   ]
  },
  {
   "cell_type": "markdown",
   "metadata": {
    "ExecuteTime": {
     "end_time": "2019-12-04T03:43:48.352203Z",
     "start_time": "2019-12-04T03:43:48.347103Z"
    }
   },
   "source": [
    "# Sample X For 1 Prediction Only"
   ]
  },
  {
   "cell_type": "code",
   "execution_count": 22,
   "metadata": {
    "ExecuteTime": {
     "end_time": "2020-01-10T04:45:34.487453Z",
     "start_time": "2020-01-10T04:45:34.477210Z"
    }
   },
   "outputs": [
    {
     "data": {
      "text/plain": [
       "array([[-3.26240900e-01,  5.14925373e-01,  4.72894652e-01,\n",
       "        -6.96569921e-01, -3.38636364e-04, -6.66666667e-01,\n",
       "        -3.09025271e-01,  4.84390087e-02,  0.00000000e+00,\n",
       "         3.91897891e+00,  1.92307692e+00,  0.00000000e+00,\n",
       "        -7.29468599e-01, -2.25806452e-01]])"
      ]
     },
     "execution_count": 22,
     "metadata": {},
     "output_type": "execute_result"
    }
   ],
   "source": [
    "import numpy as np\n",
    "X_Prediction = np.array([X[0]])\n",
    "X_Prediction"
   ]
  },
  {
   "cell_type": "code",
   "execution_count": 23,
   "metadata": {
    "ExecuteTime": {
     "end_time": "2020-01-10T04:45:36.030463Z",
     "start_time": "2020-01-10T04:45:36.012836Z"
    }
   },
   "outputs": [
    {
     "data": {
      "text/html": [
       "<div>\n",
       "<style scoped>\n",
       "    .dataframe tbody tr th:only-of-type {\n",
       "        vertical-align: middle;\n",
       "    }\n",
       "\n",
       "    .dataframe tbody tr th {\n",
       "        vertical-align: top;\n",
       "    }\n",
       "\n",
       "    .dataframe thead th {\n",
       "        text-align: right;\n",
       "    }\n",
       "</style>\n",
       "<table border=\"1\" class=\"dataframe\">\n",
       "  <thead>\n",
       "    <tr style=\"text-align: right;\">\n",
       "      <th></th>\n",
       "      <th>0</th>\n",
       "      <th>1</th>\n",
       "      <th>2</th>\n",
       "      <th>3</th>\n",
       "      <th>4</th>\n",
       "      <th>5</th>\n",
       "    </tr>\n",
       "  </thead>\n",
       "  <tbody>\n",
       "    <tr>\n",
       "      <th>0</th>\n",
       "      <td>0</td>\n",
       "      <td>43436</td>\n",
       "      <td>51256</td>\n",
       "      <td>92348</td>\n",
       "      <td>24902</td>\n",
       "      <td>53729</td>\n",
       "    </tr>\n",
       "  </tbody>\n",
       "</table>\n",
       "</div>"
      ],
      "text/plain": [
       "   0      1      2      3      4      5\n",
       "0  0  43436  51256  92348  24902  53729"
      ]
     },
     "execution_count": 23,
     "metadata": {},
     "output_type": "execute_result"
    }
   ],
   "source": [
    "dist, ind = model.query(X_Prediction, k=6)\n",
    "df_dist = pd.DataFrame(dist)\n",
    "pd.DataFrame(ind).head()"
   ]
  },
  {
   "cell_type": "code",
   "execution_count": 24,
   "metadata": {
    "ExecuteTime": {
     "end_time": "2020-01-10T04:45:37.926194Z",
     "start_time": "2020-01-10T04:45:37.909888Z"
    }
   },
   "outputs": [
    {
     "data": {
      "text/html": [
       "<div>\n",
       "<style scoped>\n",
       "    .dataframe tbody tr th:only-of-type {\n",
       "        vertical-align: middle;\n",
       "    }\n",
       "\n",
       "    .dataframe tbody tr th {\n",
       "        vertical-align: top;\n",
       "    }\n",
       "\n",
       "    .dataframe thead th {\n",
       "        text-align: right;\n",
       "    }\n",
       "</style>\n",
       "<table border=\"1\" class=\"dataframe\">\n",
       "  <thead>\n",
       "    <tr style=\"text-align: right;\">\n",
       "      <th></th>\n",
       "      <th>0</th>\n",
       "      <th>1</th>\n",
       "      <th>2</th>\n",
       "      <th>3</th>\n",
       "      <th>4</th>\n",
       "      <th>5</th>\n",
       "    </tr>\n",
       "  </thead>\n",
       "  <tbody>\n",
       "    <tr>\n",
       "      <th>0</th>\n",
       "      <td>0.0</td>\n",
       "      <td>1.144224</td>\n",
       "      <td>1.274368</td>\n",
       "      <td>1.304762</td>\n",
       "      <td>1.316577</td>\n",
       "      <td>1.331322</td>\n",
       "    </tr>\n",
       "  </tbody>\n",
       "</table>\n",
       "</div>"
      ],
      "text/plain": [
       "     0         1         2         3         4         5\n",
       "0  0.0  1.144224  1.274368  1.304762  1.316577  1.331322"
      ]
     },
     "execution_count": 24,
     "metadata": {},
     "output_type": "execute_result"
    }
   ],
   "source": [
    "pd.DataFrame(df_dist).head()"
   ]
  },
  {
   "cell_type": "markdown",
   "metadata": {},
   "source": [
    "# Convert distance score back to song ID"
   ]
  },
  {
   "cell_type": "code",
   "execution_count": 25,
   "metadata": {
    "ExecuteTime": {
     "end_time": "2020-01-10T04:45:40.259789Z",
     "start_time": "2020-01-10T04:45:40.241925Z"
    }
   },
   "outputs": [],
   "source": [
    "prediction_list = []\n",
    "for row in ind:\n",
    "    song_id = [df.track_id[i] for i in row]\n",
    "    prediction_list.append(song_id)"
   ]
  },
  {
   "cell_type": "code",
   "execution_count": 26,
   "metadata": {
    "ExecuteTime": {
     "end_time": "2020-01-10T04:45:41.260708Z",
     "start_time": "2020-01-10T04:45:41.237389Z"
    }
   },
   "outputs": [
    {
     "data": {
      "text/html": [
       "<div>\n",
       "<style scoped>\n",
       "    .dataframe tbody tr th:only-of-type {\n",
       "        vertical-align: middle;\n",
       "    }\n",
       "\n",
       "    .dataframe tbody tr th {\n",
       "        vertical-align: top;\n",
       "    }\n",
       "\n",
       "    .dataframe thead th {\n",
       "        text-align: right;\n",
       "    }\n",
       "</style>\n",
       "<table border=\"1\" class=\"dataframe\">\n",
       "  <thead>\n",
       "    <tr style=\"text-align: right;\">\n",
       "      <th></th>\n",
       "      <th>id</th>\n",
       "      <th>1</th>\n",
       "      <th>2</th>\n",
       "      <th>3</th>\n",
       "      <th>4</th>\n",
       "      <th>5</th>\n",
       "    </tr>\n",
       "  </thead>\n",
       "  <tbody>\n",
       "    <tr>\n",
       "      <th>0</th>\n",
       "      <td>2RM4jf1Xa9zPgMGRDiht8O</td>\n",
       "      <td>1rG9U7m2wqM0AVmZeIsdtz</td>\n",
       "      <td>56GWUZPELOP1nK4hQwfVVV</td>\n",
       "      <td>3UDOPqusSZZ7NqyWyMMk50</td>\n",
       "      <td>02s1Voowwhr0qTSOrMVEXk</td>\n",
       "      <td>2ogGsvbGjJz71Ppc9mTExA</td>\n",
       "    </tr>\n",
       "  </tbody>\n",
       "</table>\n",
       "</div>"
      ],
      "text/plain": [
       "                       id                       1                       2  \\\n",
       "0  2RM4jf1Xa9zPgMGRDiht8O  1rG9U7m2wqM0AVmZeIsdtz  56GWUZPELOP1nK4hQwfVVV   \n",
       "\n",
       "                        3                       4                       5  \n",
       "0  3UDOPqusSZZ7NqyWyMMk50  02s1Voowwhr0qTSOrMVEXk  2ogGsvbGjJz71Ppc9mTExA  "
      ]
     },
     "execution_count": 26,
     "metadata": {},
     "output_type": "execute_result"
    }
   ],
   "source": [
    "# Turn list in dataframe and export to csv\n",
    "columns = ['id', '1', '2', '3', '4', '5']\n",
    "final_prediction = pd.DataFrame(prediction_list, columns=columns)\n",
    "final_prediction = final_prediction.drop_duplicates(subset=['id'], keep='first')\n",
    "final_prediction"
   ]
  },
  {
   "cell_type": "markdown",
   "metadata": {},
   "source": [
    "# Test Query"
   ]
  },
  {
   "cell_type": "code",
   "execution_count": 11,
   "metadata": {
    "ExecuteTime": {
     "end_time": "2020-01-10T04:37:06.906420Z",
     "start_time": "2020-01-10T04:37:06.891037Z"
    }
   },
   "outputs": [
    {
     "data": {
      "text/plain": [
       "['1rG9U7m2wqM0AVmZeIsdtz',\n",
       " '56GWUZPELOP1nK4hQwfVVV',\n",
       " '3UDOPqusSZZ7NqyWyMMk50',\n",
       " '02s1Voowwhr0qTSOrMVEXk',\n",
       " '2ogGsvbGjJz71Ppc9mTExA']"
      ]
     },
     "execution_count": 11,
     "metadata": {},
     "output_type": "execute_result"
    }
   ],
   "source": [
    "# Test query\n",
    "final_prediction[final_prediction.id == \"2RM4jf1Xa9zPgMGRDiht8O\"].values.tolist()[0][1:]"
   ]
  },
  {
   "cell_type": "markdown",
   "metadata": {},
   "source": [
    "# Test with JSON from dataframe"
   ]
  },
  {
   "cell_type": "code",
   "execution_count": 91,
   "metadata": {
    "ExecuteTime": {
     "end_time": "2020-01-10T05:20:27.325121Z",
     "start_time": "2020-01-10T05:20:27.198957Z"
    }
   },
   "outputs": [
    {
     "name": "stdout",
     "output_type": "stream",
     "text": [
      "{\"track_id\":\"2RM4jf1Xa9zPgMGRDiht8O\",\"acousticness\":0.00582,\"danceability\":0.743,\"duration_ms\":238373,\"energy\":0.339,\"instrumentalness\":0.0,\"key\":1,\"liveness\":0.0812,\"loudness\":-7.678,\"mode\":1,\"speechiness\":0.409,\"tempo\":203.927,\"time_signature\":4,\"valence\":0.118,\"popularity\":15}\n"
     ]
    },
    {
     "data": {
      "text/plain": [
       "dict"
      ]
     },
     "execution_count": 91,
     "metadata": {},
     "output_type": "execute_result"
    }
   ],
   "source": [
    "out=df.drop(columns=['artist_name', 'track_name']).head(1).to_json(orient='records')[1:-1].replace('},{', '} {')\n",
    "print(out)\n",
    "type(json.loads(out))"
   ]
  },
  {
   "cell_type": "code",
   "execution_count": 92,
   "metadata": {
    "ExecuteTime": {
     "end_time": "2020-01-10T05:20:28.353593Z",
     "start_time": "2020-01-10T05:20:28.318668Z"
    }
   },
   "outputs": [
    {
     "data": {
      "text/html": [
       "<div>\n",
       "<style scoped>\n",
       "    .dataframe tbody tr th:only-of-type {\n",
       "        vertical-align: middle;\n",
       "    }\n",
       "\n",
       "    .dataframe tbody tr th {\n",
       "        vertical-align: top;\n",
       "    }\n",
       "\n",
       "    .dataframe thead th {\n",
       "        text-align: right;\n",
       "    }\n",
       "</style>\n",
       "<table border=\"1\" class=\"dataframe\">\n",
       "  <thead>\n",
       "    <tr style=\"text-align: right;\">\n",
       "      <th></th>\n",
       "      <th>track_id</th>\n",
       "      <th>acousticness</th>\n",
       "      <th>danceability</th>\n",
       "      <th>duration_ms</th>\n",
       "      <th>energy</th>\n",
       "      <th>instrumentalness</th>\n",
       "      <th>key</th>\n",
       "      <th>liveness</th>\n",
       "      <th>loudness</th>\n",
       "      <th>mode</th>\n",
       "      <th>speechiness</th>\n",
       "      <th>tempo</th>\n",
       "      <th>time_signature</th>\n",
       "      <th>valence</th>\n",
       "      <th>popularity</th>\n",
       "    </tr>\n",
       "  </thead>\n",
       "  <tbody>\n",
       "    <tr>\n",
       "      <th>0</th>\n",
       "      <td>2RM4jf1Xa9zPgMGRDiht8O</td>\n",
       "      <td>0.00582</td>\n",
       "      <td>0.743</td>\n",
       "      <td>238373</td>\n",
       "      <td>0.339</td>\n",
       "      <td>0</td>\n",
       "      <td>1</td>\n",
       "      <td>0.0812</td>\n",
       "      <td>-7.678</td>\n",
       "      <td>1</td>\n",
       "      <td>0.409</td>\n",
       "      <td>203.927</td>\n",
       "      <td>4</td>\n",
       "      <td>0.118</td>\n",
       "      <td>15</td>\n",
       "    </tr>\n",
       "  </tbody>\n",
       "</table>\n",
       "</div>"
      ],
      "text/plain": [
       "                 track_id acousticness danceability duration_ms energy  \\\n",
       "0  2RM4jf1Xa9zPgMGRDiht8O      0.00582        0.743      238373  0.339   \n",
       "\n",
       "  instrumentalness key liveness loudness mode speechiness    tempo  \\\n",
       "0                0   1   0.0812   -7.678    1       0.409  203.927   \n",
       "\n",
       "  time_signature valence popularity  \n",
       "0              4   0.118         15  "
      ]
     },
     "execution_count": 92,
     "metadata": {},
     "output_type": "execute_result"
    }
   ],
   "source": [
    "s = pd.Series(json.loads(out))\n",
    "json_df = s.to_frame()\n",
    "json_df.transpose()"
   ]
  },
  {
   "cell_type": "code",
   "execution_count": 93,
   "metadata": {
    "ExecuteTime": {
     "end_time": "2020-01-10T05:20:55.868322Z",
     "start_time": "2020-01-10T05:20:55.535464Z"
    },
    "scrolled": true
   },
   "outputs": [
    {
     "name": "stdout",
     "output_type": "stream",
     "text": [
      "(130663, 15)\n",
      "(1, 15)\n"
     ]
    },
    {
     "data": {
      "text/html": [
       "<div>\n",
       "<style scoped>\n",
       "    .dataframe tbody tr th:only-of-type {\n",
       "        vertical-align: middle;\n",
       "    }\n",
       "\n",
       "    .dataframe tbody tr th {\n",
       "        vertical-align: top;\n",
       "    }\n",
       "\n",
       "    .dataframe thead th {\n",
       "        text-align: right;\n",
       "    }\n",
       "</style>\n",
       "<table border=\"1\" class=\"dataframe\">\n",
       "  <thead>\n",
       "    <tr style=\"text-align: right;\">\n",
       "      <th></th>\n",
       "      <th>track_id</th>\n",
       "      <th>acousticness</th>\n",
       "      <th>danceability</th>\n",
       "      <th>duration_ms</th>\n",
       "      <th>energy</th>\n",
       "      <th>instrumentalness</th>\n",
       "      <th>key</th>\n",
       "      <th>liveness</th>\n",
       "      <th>loudness</th>\n",
       "      <th>mode</th>\n",
       "      <th>speechiness</th>\n",
       "      <th>tempo</th>\n",
       "      <th>time_signature</th>\n",
       "      <th>valence</th>\n",
       "      <th>popularity</th>\n",
       "    </tr>\n",
       "  </thead>\n",
       "  <tbody>\n",
       "    <tr>\n",
       "      <th>130659</th>\n",
       "      <td>43MP9F7UzvfilSrw2SqZGJ</td>\n",
       "      <td>0.918</td>\n",
       "      <td>0.387</td>\n",
       "      <td>194583</td>\n",
       "      <td>0.249</td>\n",
       "      <td>0</td>\n",
       "      <td>9</td>\n",
       "      <td>0.103</td>\n",
       "      <td>-13.233</td>\n",
       "      <td>1</td>\n",
       "      <td>0.0437</td>\n",
       "      <td>94.039</td>\n",
       "      <td>4</td>\n",
       "      <td>0.346</td>\n",
       "      <td>60</td>\n",
       "    </tr>\n",
       "    <tr>\n",
       "      <th>130660</th>\n",
       "      <td>4TWlUuFk81NGUNKwndyS5Q</td>\n",
       "      <td>0.33</td>\n",
       "      <td>0.717</td>\n",
       "      <td>139191</td>\n",
       "      <td>0.532</td>\n",
       "      <td>0</td>\n",
       "      <td>8</td>\n",
       "      <td>0.0997</td>\n",
       "      <td>-8.351</td>\n",
       "      <td>0</td>\n",
       "      <td>0.206</td>\n",
       "      <td>156.977</td>\n",
       "      <td>4</td>\n",
       "      <td>0.546</td>\n",
       "      <td>47</td>\n",
       "    </tr>\n",
       "    <tr>\n",
       "      <th>130661</th>\n",
       "      <td>5iGBXzOoRo4sBTy8wdzMyK</td>\n",
       "      <td>0.0079</td>\n",
       "      <td>0.772</td>\n",
       "      <td>180013</td>\n",
       "      <td>0.51</td>\n",
       "      <td>0</td>\n",
       "      <td>4</td>\n",
       "      <td>0.131</td>\n",
       "      <td>-9.67</td>\n",
       "      <td>0</td>\n",
       "      <td>0.12</td>\n",
       "      <td>120.049</td>\n",
       "      <td>4</td>\n",
       "      <td>0.0755</td>\n",
       "      <td>50</td>\n",
       "    </tr>\n",
       "    <tr>\n",
       "      <th>130662</th>\n",
       "      <td>7LNtyuekYHiZ99UxkrfCQR</td>\n",
       "      <td>0.549</td>\n",
       "      <td>0.715</td>\n",
       "      <td>145827</td>\n",
       "      <td>0.734</td>\n",
       "      <td>0</td>\n",
       "      <td>3</td>\n",
       "      <td>0.108</td>\n",
       "      <td>-3.244</td>\n",
       "      <td>1</td>\n",
       "      <td>0.0367</td>\n",
       "      <td>130.128</td>\n",
       "      <td>3</td>\n",
       "      <td>0.976</td>\n",
       "      <td>55</td>\n",
       "    </tr>\n",
       "    <tr>\n",
       "      <th>130663</th>\n",
       "      <td>2RM4jf1Xa9zPgMGRDiht8O</td>\n",
       "      <td>0.00582</td>\n",
       "      <td>0.743</td>\n",
       "      <td>238373</td>\n",
       "      <td>0.339</td>\n",
       "      <td>0</td>\n",
       "      <td>1</td>\n",
       "      <td>0.0812</td>\n",
       "      <td>-7.678</td>\n",
       "      <td>1</td>\n",
       "      <td>0.409</td>\n",
       "      <td>203.927</td>\n",
       "      <td>4</td>\n",
       "      <td>0.118</td>\n",
       "      <td>15</td>\n",
       "    </tr>\n",
       "  </tbody>\n",
       "</table>\n",
       "</div>"
      ],
      "text/plain": [
       "                      track_id acousticness danceability duration_ms energy  \\\n",
       "130659  43MP9F7UzvfilSrw2SqZGJ        0.918        0.387      194583  0.249   \n",
       "130660  4TWlUuFk81NGUNKwndyS5Q         0.33        0.717      139191  0.532   \n",
       "130661  5iGBXzOoRo4sBTy8wdzMyK       0.0079        0.772      180013   0.51   \n",
       "130662  7LNtyuekYHiZ99UxkrfCQR        0.549        0.715      145827  0.734   \n",
       "130663  2RM4jf1Xa9zPgMGRDiht8O      0.00582        0.743      238373  0.339   \n",
       "\n",
       "       instrumentalness key liveness loudness mode speechiness    tempo  \\\n",
       "130659                0   9    0.103  -13.233    1      0.0437   94.039   \n",
       "130660                0   8   0.0997   -8.351    0       0.206  156.977   \n",
       "130661                0   4    0.131    -9.67    0        0.12  120.049   \n",
       "130662                0   3    0.108   -3.244    1      0.0367  130.128   \n",
       "130663                0   1   0.0812   -7.678    1       0.409  203.927   \n",
       "\n",
       "       time_signature valence popularity  \n",
       "130659              4   0.346         60  \n",
       "130660              4   0.546         47  \n",
       "130661              4  0.0755         50  \n",
       "130662              3   0.976         55  \n",
       "130663              4   0.118         15  "
      ]
     },
     "execution_count": 93,
     "metadata": {},
     "output_type": "execute_result"
    }
   ],
   "source": [
    "print(df.drop(columns=['artist_name', 'track_name']).shape)\n",
    "print(json_df.transpose().shape)\n",
    "df2 = pd.concat([df.drop(columns=['artist_name', 'track_name']),json_df.transpose()], sort=False)\n",
    "df2 = df2.reset_index(drop=True)\n",
    "df2.tail()"
   ]
  },
  {
   "cell_type": "code",
   "execution_count": 94,
   "metadata": {
    "ExecuteTime": {
     "end_time": "2020-01-10T05:21:35.341006Z",
     "start_time": "2020-01-10T05:21:35.294152Z"
    }
   },
   "outputs": [
    {
     "name": "stdout",
     "output_type": "stream",
     "text": [
      "(130664, 14)\n"
     ]
    },
    {
     "data": {
      "text/html": [
       "<div>\n",
       "<style scoped>\n",
       "    .dataframe tbody tr th:only-of-type {\n",
       "        vertical-align: middle;\n",
       "    }\n",
       "\n",
       "    .dataframe tbody tr th {\n",
       "        vertical-align: top;\n",
       "    }\n",
       "\n",
       "    .dataframe thead th {\n",
       "        text-align: right;\n",
       "    }\n",
       "</style>\n",
       "<table border=\"1\" class=\"dataframe\">\n",
       "  <thead>\n",
       "    <tr style=\"text-align: right;\">\n",
       "      <th></th>\n",
       "      <th>acousticness</th>\n",
       "      <th>danceability</th>\n",
       "      <th>duration_ms</th>\n",
       "      <th>energy</th>\n",
       "      <th>instrumentalness</th>\n",
       "      <th>key</th>\n",
       "      <th>liveness</th>\n",
       "      <th>loudness</th>\n",
       "      <th>mode</th>\n",
       "      <th>speechiness</th>\n",
       "      <th>tempo</th>\n",
       "      <th>time_signature</th>\n",
       "      <th>valence</th>\n",
       "      <th>popularity</th>\n",
       "    </tr>\n",
       "  </thead>\n",
       "  <tbody>\n",
       "    <tr>\n",
       "      <th>130659</th>\n",
       "      <td>0.918</td>\n",
       "      <td>0.387</td>\n",
       "      <td>194583</td>\n",
       "      <td>0.249</td>\n",
       "      <td>0</td>\n",
       "      <td>9</td>\n",
       "      <td>0.103</td>\n",
       "      <td>-13.233</td>\n",
       "      <td>1</td>\n",
       "      <td>0.0437</td>\n",
       "      <td>94.039</td>\n",
       "      <td>4</td>\n",
       "      <td>0.346</td>\n",
       "      <td>60</td>\n",
       "    </tr>\n",
       "    <tr>\n",
       "      <th>130660</th>\n",
       "      <td>0.33</td>\n",
       "      <td>0.717</td>\n",
       "      <td>139191</td>\n",
       "      <td>0.532</td>\n",
       "      <td>0</td>\n",
       "      <td>8</td>\n",
       "      <td>0.0997</td>\n",
       "      <td>-8.351</td>\n",
       "      <td>0</td>\n",
       "      <td>0.206</td>\n",
       "      <td>156.977</td>\n",
       "      <td>4</td>\n",
       "      <td>0.546</td>\n",
       "      <td>47</td>\n",
       "    </tr>\n",
       "    <tr>\n",
       "      <th>130661</th>\n",
       "      <td>0.0079</td>\n",
       "      <td>0.772</td>\n",
       "      <td>180013</td>\n",
       "      <td>0.51</td>\n",
       "      <td>0</td>\n",
       "      <td>4</td>\n",
       "      <td>0.131</td>\n",
       "      <td>-9.67</td>\n",
       "      <td>0</td>\n",
       "      <td>0.12</td>\n",
       "      <td>120.049</td>\n",
       "      <td>4</td>\n",
       "      <td>0.0755</td>\n",
       "      <td>50</td>\n",
       "    </tr>\n",
       "    <tr>\n",
       "      <th>130662</th>\n",
       "      <td>0.549</td>\n",
       "      <td>0.715</td>\n",
       "      <td>145827</td>\n",
       "      <td>0.734</td>\n",
       "      <td>0</td>\n",
       "      <td>3</td>\n",
       "      <td>0.108</td>\n",
       "      <td>-3.244</td>\n",
       "      <td>1</td>\n",
       "      <td>0.0367</td>\n",
       "      <td>130.128</td>\n",
       "      <td>3</td>\n",
       "      <td>0.976</td>\n",
       "      <td>55</td>\n",
       "    </tr>\n",
       "    <tr>\n",
       "      <th>130663</th>\n",
       "      <td>0.00582</td>\n",
       "      <td>0.743</td>\n",
       "      <td>238373</td>\n",
       "      <td>0.339</td>\n",
       "      <td>0</td>\n",
       "      <td>1</td>\n",
       "      <td>0.0812</td>\n",
       "      <td>-7.678</td>\n",
       "      <td>1</td>\n",
       "      <td>0.409</td>\n",
       "      <td>203.927</td>\n",
       "      <td>4</td>\n",
       "      <td>0.118</td>\n",
       "      <td>15</td>\n",
       "    </tr>\n",
       "  </tbody>\n",
       "</table>\n",
       "</div>"
      ],
      "text/plain": [
       "       acousticness danceability duration_ms energy instrumentalness key  \\\n",
       "130659        0.918        0.387      194583  0.249                0   9   \n",
       "130660         0.33        0.717      139191  0.532                0   8   \n",
       "130661       0.0079        0.772      180013   0.51                0   4   \n",
       "130662        0.549        0.715      145827  0.734                0   3   \n",
       "130663      0.00582        0.743      238373  0.339                0   1   \n",
       "\n",
       "       liveness loudness mode speechiness    tempo time_signature valence  \\\n",
       "130659    0.103  -13.233    1      0.0437   94.039              4   0.346   \n",
       "130660   0.0997   -8.351    0       0.206  156.977              4   0.546   \n",
       "130661    0.131    -9.67    0        0.12  120.049              4  0.0755   \n",
       "130662    0.108   -3.244    1      0.0367  130.128              3   0.976   \n",
       "130663   0.0812   -7.678    1       0.409  203.927              4   0.118   \n",
       "\n",
       "       popularity  \n",
       "130659         60  \n",
       "130660         47  \n",
       "130661         50  \n",
       "130662         55  \n",
       "130663         15  "
      ]
     },
     "execution_count": 94,
     "metadata": {},
     "output_type": "execute_result"
    }
   ],
   "source": [
    "dynamic_df = df2.drop(columns=['track_id'])\n",
    "print(dynamic_df.shape)\n",
    "dynamic_df.tail()"
   ]
  },
  {
   "cell_type": "markdown",
   "metadata": {
    "ExecuteTime": {
     "end_time": "2020-01-10T05:22:46.220411Z",
     "start_time": "2020-01-10T05:22:46.215325Z"
    }
   },
   "source": [
    "## Make Prediction for test song from original dataframe"
   ]
  },
  {
   "cell_type": "code",
   "execution_count": 96,
   "metadata": {
    "ExecuteTime": {
     "end_time": "2020-01-10T05:23:04.367714Z",
     "start_time": "2020-01-10T05:23:03.468041Z"
    }
   },
   "outputs": [
    {
     "data": {
      "text/html": [
       "<div>\n",
       "<style scoped>\n",
       "    .dataframe tbody tr th:only-of-type {\n",
       "        vertical-align: middle;\n",
       "    }\n",
       "\n",
       "    .dataframe tbody tr th {\n",
       "        vertical-align: top;\n",
       "    }\n",
       "\n",
       "    .dataframe thead th {\n",
       "        text-align: right;\n",
       "    }\n",
       "</style>\n",
       "<table border=\"1\" class=\"dataframe\">\n",
       "  <thead>\n",
       "    <tr style=\"text-align: right;\">\n",
       "      <th></th>\n",
       "      <th>id</th>\n",
       "      <th>1</th>\n",
       "      <th>2</th>\n",
       "      <th>3</th>\n",
       "      <th>4</th>\n",
       "      <th>5</th>\n",
       "    </tr>\n",
       "  </thead>\n",
       "  <tbody>\n",
       "    <tr>\n",
       "      <th>0</th>\n",
       "      <td>2RM4jf1Xa9zPgMGRDiht8O</td>\n",
       "      <td>2RM4jf1Xa9zPgMGRDiht8O</td>\n",
       "      <td>1rG9U7m2wqM0AVmZeIsdtz</td>\n",
       "      <td>56GWUZPELOP1nK4hQwfVVV</td>\n",
       "      <td>3UDOPqusSZZ7NqyWyMMk50</td>\n",
       "      <td>02s1Voowwhr0qTSOrMVEXk</td>\n",
       "    </tr>\n",
       "  </tbody>\n",
       "</table>\n",
       "</div>"
      ],
      "text/plain": [
       "                       id                       1                       2  \\\n",
       "0  2RM4jf1Xa9zPgMGRDiht8O  2RM4jf1Xa9zPgMGRDiht8O  1rG9U7m2wqM0AVmZeIsdtz   \n",
       "\n",
       "                        3                       4                       5  \n",
       "0  56GWUZPELOP1nK4hQwfVVV  3UDOPqusSZZ7NqyWyMMk50  02s1Voowwhr0qTSOrMVEXk  "
      ]
     },
     "execution_count": 96,
     "metadata": {},
     "output_type": "execute_result"
    }
   ],
   "source": [
    "from sklearn.preprocessing import RobustScaler\n",
    "from sklearn.neighbors import NearestNeighbors\n",
    "from sklearn.neighbors import KDTree\n",
    "scaler = RobustScaler()\n",
    "X = scaler.fit_transform(dynamic_df)\n",
    "model = KDTree(X)\n",
    "X_Prediction = np.array([X[-1]])\n",
    "X_Prediction\n",
    "dist, ind = model.query(X_Prediction, k=6)\n",
    "prediction_list = []\n",
    "for row in ind:\n",
    "    song_id = [df2.track_id[i] for i in row]\n",
    "    prediction_list.append(song_id)\n",
    "columns = ['id', '1', '2', '3', '4', '5']\n",
    "final_prediction = pd.DataFrame(prediction_list, columns=columns)\n",
    "final_prediction = final_prediction.drop_duplicates(subset=['id'], keep='first')\n",
    "final_prediction"
   ]
  },
  {
   "cell_type": "markdown",
   "metadata": {
    "ExecuteTime": {
     "end_time": "2020-01-10T04:54:17.062836Z",
     "start_time": "2020-01-10T04:54:17.054876Z"
    }
   },
   "source": [
    "# Test with custom defined dictionary"
   ]
  },
  {
   "cell_type": "code",
   "execution_count": 101,
   "metadata": {
    "ExecuteTime": {
     "end_time": "2020-01-10T05:24:11.586842Z",
     "start_time": "2020-01-10T05:24:11.559215Z"
    }
   },
   "outputs": [
    {
     "data": {
      "text/html": [
       "<div>\n",
       "<style scoped>\n",
       "    .dataframe tbody tr th:only-of-type {\n",
       "        vertical-align: middle;\n",
       "    }\n",
       "\n",
       "    .dataframe tbody tr th {\n",
       "        vertical-align: top;\n",
       "    }\n",
       "\n",
       "    .dataframe thead th {\n",
       "        text-align: right;\n",
       "    }\n",
       "</style>\n",
       "<table border=\"1\" class=\"dataframe\">\n",
       "  <thead>\n",
       "    <tr style=\"text-align: right;\">\n",
       "      <th></th>\n",
       "      <th>track_id</th>\n",
       "      <th>acousticness</th>\n",
       "      <th>danceability</th>\n",
       "      <th>duration_ms</th>\n",
       "      <th>energy</th>\n",
       "      <th>instrumentalness</th>\n",
       "      <th>key</th>\n",
       "      <th>liveness</th>\n",
       "      <th>loudness</th>\n",
       "      <th>mode</th>\n",
       "      <th>speechiness</th>\n",
       "      <th>tempo</th>\n",
       "      <th>time_signature</th>\n",
       "      <th>valence</th>\n",
       "      <th>popularity</th>\n",
       "    </tr>\n",
       "  </thead>\n",
       "  <tbody>\n",
       "    <tr>\n",
       "      <th>0</th>\n",
       "      <td>any_song_id</td>\n",
       "      <td>0.00583</td>\n",
       "      <td>0.743</td>\n",
       "      <td>238373</td>\n",
       "      <td>0.339</td>\n",
       "      <td>0</td>\n",
       "      <td>1</td>\n",
       "      <td>0.0812</td>\n",
       "      <td>-7.678</td>\n",
       "      <td>1</td>\n",
       "      <td>0.409</td>\n",
       "      <td>203.927</td>\n",
       "      <td>4</td>\n",
       "      <td>0.118</td>\n",
       "      <td>15</td>\n",
       "    </tr>\n",
       "  </tbody>\n",
       "</table>\n",
       "</div>"
      ],
      "text/plain": [
       "      track_id acousticness danceability duration_ms energy instrumentalness  \\\n",
       "0  any_song_id      0.00583        0.743      238373  0.339                0   \n",
       "\n",
       "  key liveness loudness mode speechiness    tempo time_signature valence  \\\n",
       "0   1   0.0812   -7.678    1       0.409  203.927              4   0.118   \n",
       "\n",
       "  popularity  \n",
       "0         15  "
      ]
     },
     "execution_count": 101,
     "metadata": {},
     "output_type": "execute_result"
    }
   ],
   "source": [
    "dict1={\"track_id\":\"any_song_id\",\"acousticness\":0.00583,\"danceability\":0.743,\"duration_ms\":238373,\"energy\":0.339,\"instrumentalness\":0.0,\"key\":1,\"liveness\":0.0812,\"loudness\":-7.678,\"mode\":1,\"speechiness\":0.409,\"tempo\":203.927,\"time_signature\":4,\"valence\":0.118,\"popularity\":15}\n",
    "s = pd.Series(dict1)\n",
    "json_df = s.to_frame()\n",
    "json_df.transpose()"
   ]
  },
  {
   "cell_type": "code",
   "execution_count": 102,
   "metadata": {
    "ExecuteTime": {
     "end_time": "2020-01-10T05:24:13.090289Z",
     "start_time": "2020-01-10T05:24:12.539163Z"
    }
   },
   "outputs": [
    {
     "name": "stdout",
     "output_type": "stream",
     "text": [
      "(130663, 15)\n",
      "(1, 15)\n"
     ]
    },
    {
     "data": {
      "text/html": [
       "<div>\n",
       "<style scoped>\n",
       "    .dataframe tbody tr th:only-of-type {\n",
       "        vertical-align: middle;\n",
       "    }\n",
       "\n",
       "    .dataframe tbody tr th {\n",
       "        vertical-align: top;\n",
       "    }\n",
       "\n",
       "    .dataframe thead th {\n",
       "        text-align: right;\n",
       "    }\n",
       "</style>\n",
       "<table border=\"1\" class=\"dataframe\">\n",
       "  <thead>\n",
       "    <tr style=\"text-align: right;\">\n",
       "      <th></th>\n",
       "      <th>track_id</th>\n",
       "      <th>acousticness</th>\n",
       "      <th>danceability</th>\n",
       "      <th>duration_ms</th>\n",
       "      <th>energy</th>\n",
       "      <th>instrumentalness</th>\n",
       "      <th>key</th>\n",
       "      <th>liveness</th>\n",
       "      <th>loudness</th>\n",
       "      <th>mode</th>\n",
       "      <th>speechiness</th>\n",
       "      <th>tempo</th>\n",
       "      <th>time_signature</th>\n",
       "      <th>valence</th>\n",
       "      <th>popularity</th>\n",
       "    </tr>\n",
       "  </thead>\n",
       "  <tbody>\n",
       "    <tr>\n",
       "      <th>130659</th>\n",
       "      <td>43MP9F7UzvfilSrw2SqZGJ</td>\n",
       "      <td>0.918</td>\n",
       "      <td>0.387</td>\n",
       "      <td>194583</td>\n",
       "      <td>0.249</td>\n",
       "      <td>0</td>\n",
       "      <td>9</td>\n",
       "      <td>0.103</td>\n",
       "      <td>-13.233</td>\n",
       "      <td>1</td>\n",
       "      <td>0.0437</td>\n",
       "      <td>94.039</td>\n",
       "      <td>4</td>\n",
       "      <td>0.346</td>\n",
       "      <td>60</td>\n",
       "    </tr>\n",
       "    <tr>\n",
       "      <th>130660</th>\n",
       "      <td>4TWlUuFk81NGUNKwndyS5Q</td>\n",
       "      <td>0.33</td>\n",
       "      <td>0.717</td>\n",
       "      <td>139191</td>\n",
       "      <td>0.532</td>\n",
       "      <td>0</td>\n",
       "      <td>8</td>\n",
       "      <td>0.0997</td>\n",
       "      <td>-8.351</td>\n",
       "      <td>0</td>\n",
       "      <td>0.206</td>\n",
       "      <td>156.977</td>\n",
       "      <td>4</td>\n",
       "      <td>0.546</td>\n",
       "      <td>47</td>\n",
       "    </tr>\n",
       "    <tr>\n",
       "      <th>130661</th>\n",
       "      <td>5iGBXzOoRo4sBTy8wdzMyK</td>\n",
       "      <td>0.0079</td>\n",
       "      <td>0.772</td>\n",
       "      <td>180013</td>\n",
       "      <td>0.51</td>\n",
       "      <td>0</td>\n",
       "      <td>4</td>\n",
       "      <td>0.131</td>\n",
       "      <td>-9.67</td>\n",
       "      <td>0</td>\n",
       "      <td>0.12</td>\n",
       "      <td>120.049</td>\n",
       "      <td>4</td>\n",
       "      <td>0.0755</td>\n",
       "      <td>50</td>\n",
       "    </tr>\n",
       "    <tr>\n",
       "      <th>130662</th>\n",
       "      <td>7LNtyuekYHiZ99UxkrfCQR</td>\n",
       "      <td>0.549</td>\n",
       "      <td>0.715</td>\n",
       "      <td>145827</td>\n",
       "      <td>0.734</td>\n",
       "      <td>0</td>\n",
       "      <td>3</td>\n",
       "      <td>0.108</td>\n",
       "      <td>-3.244</td>\n",
       "      <td>1</td>\n",
       "      <td>0.0367</td>\n",
       "      <td>130.128</td>\n",
       "      <td>3</td>\n",
       "      <td>0.976</td>\n",
       "      <td>55</td>\n",
       "    </tr>\n",
       "    <tr>\n",
       "      <th>130663</th>\n",
       "      <td>any_song_id</td>\n",
       "      <td>0.00583</td>\n",
       "      <td>0.743</td>\n",
       "      <td>238373</td>\n",
       "      <td>0.339</td>\n",
       "      <td>0</td>\n",
       "      <td>1</td>\n",
       "      <td>0.0812</td>\n",
       "      <td>-7.678</td>\n",
       "      <td>1</td>\n",
       "      <td>0.409</td>\n",
       "      <td>203.927</td>\n",
       "      <td>4</td>\n",
       "      <td>0.118</td>\n",
       "      <td>15</td>\n",
       "    </tr>\n",
       "  </tbody>\n",
       "</table>\n",
       "</div>"
      ],
      "text/plain": [
       "                      track_id acousticness danceability duration_ms energy  \\\n",
       "130659  43MP9F7UzvfilSrw2SqZGJ        0.918        0.387      194583  0.249   \n",
       "130660  4TWlUuFk81NGUNKwndyS5Q         0.33        0.717      139191  0.532   \n",
       "130661  5iGBXzOoRo4sBTy8wdzMyK       0.0079        0.772      180013   0.51   \n",
       "130662  7LNtyuekYHiZ99UxkrfCQR        0.549        0.715      145827  0.734   \n",
       "130663             any_song_id      0.00583        0.743      238373  0.339   \n",
       "\n",
       "       instrumentalness key liveness loudness mode speechiness    tempo  \\\n",
       "130659                0   9    0.103  -13.233    1      0.0437   94.039   \n",
       "130660                0   8   0.0997   -8.351    0       0.206  156.977   \n",
       "130661                0   4    0.131    -9.67    0        0.12  120.049   \n",
       "130662                0   3    0.108   -3.244    1      0.0367  130.128   \n",
       "130663                0   1   0.0812   -7.678    1       0.409  203.927   \n",
       "\n",
       "       time_signature valence popularity  \n",
       "130659              4   0.346         60  \n",
       "130660              4   0.546         47  \n",
       "130661              4  0.0755         50  \n",
       "130662              3   0.976         55  \n",
       "130663              4   0.118         15  "
      ]
     },
     "execution_count": 102,
     "metadata": {},
     "output_type": "execute_result"
    }
   ],
   "source": [
    "print(df.drop(columns=['artist_name', 'track_name']).shape)\n",
    "print(json_df.transpose().shape)\n",
    "df2 = pd.concat([df.drop(columns=['artist_name', 'track_name']),json_df.transpose()], sort=False)\n",
    "df2 = df2.reset_index(drop=True)\n",
    "df2.tail()"
   ]
  },
  {
   "cell_type": "code",
   "execution_count": 103,
   "metadata": {
    "ExecuteTime": {
     "end_time": "2020-01-10T05:24:14.304424Z",
     "start_time": "2020-01-10T05:24:14.259117Z"
    }
   },
   "outputs": [
    {
     "name": "stdout",
     "output_type": "stream",
     "text": [
      "(130664, 14)\n"
     ]
    },
    {
     "data": {
      "text/html": [
       "<div>\n",
       "<style scoped>\n",
       "    .dataframe tbody tr th:only-of-type {\n",
       "        vertical-align: middle;\n",
       "    }\n",
       "\n",
       "    .dataframe tbody tr th {\n",
       "        vertical-align: top;\n",
       "    }\n",
       "\n",
       "    .dataframe thead th {\n",
       "        text-align: right;\n",
       "    }\n",
       "</style>\n",
       "<table border=\"1\" class=\"dataframe\">\n",
       "  <thead>\n",
       "    <tr style=\"text-align: right;\">\n",
       "      <th></th>\n",
       "      <th>acousticness</th>\n",
       "      <th>danceability</th>\n",
       "      <th>duration_ms</th>\n",
       "      <th>energy</th>\n",
       "      <th>instrumentalness</th>\n",
       "      <th>key</th>\n",
       "      <th>liveness</th>\n",
       "      <th>loudness</th>\n",
       "      <th>mode</th>\n",
       "      <th>speechiness</th>\n",
       "      <th>tempo</th>\n",
       "      <th>time_signature</th>\n",
       "      <th>valence</th>\n",
       "      <th>popularity</th>\n",
       "    </tr>\n",
       "  </thead>\n",
       "  <tbody>\n",
       "    <tr>\n",
       "      <th>130659</th>\n",
       "      <td>0.918</td>\n",
       "      <td>0.387</td>\n",
       "      <td>194583</td>\n",
       "      <td>0.249</td>\n",
       "      <td>0</td>\n",
       "      <td>9</td>\n",
       "      <td>0.103</td>\n",
       "      <td>-13.233</td>\n",
       "      <td>1</td>\n",
       "      <td>0.0437</td>\n",
       "      <td>94.039</td>\n",
       "      <td>4</td>\n",
       "      <td>0.346</td>\n",
       "      <td>60</td>\n",
       "    </tr>\n",
       "    <tr>\n",
       "      <th>130660</th>\n",
       "      <td>0.33</td>\n",
       "      <td>0.717</td>\n",
       "      <td>139191</td>\n",
       "      <td>0.532</td>\n",
       "      <td>0</td>\n",
       "      <td>8</td>\n",
       "      <td>0.0997</td>\n",
       "      <td>-8.351</td>\n",
       "      <td>0</td>\n",
       "      <td>0.206</td>\n",
       "      <td>156.977</td>\n",
       "      <td>4</td>\n",
       "      <td>0.546</td>\n",
       "      <td>47</td>\n",
       "    </tr>\n",
       "    <tr>\n",
       "      <th>130661</th>\n",
       "      <td>0.0079</td>\n",
       "      <td>0.772</td>\n",
       "      <td>180013</td>\n",
       "      <td>0.51</td>\n",
       "      <td>0</td>\n",
       "      <td>4</td>\n",
       "      <td>0.131</td>\n",
       "      <td>-9.67</td>\n",
       "      <td>0</td>\n",
       "      <td>0.12</td>\n",
       "      <td>120.049</td>\n",
       "      <td>4</td>\n",
       "      <td>0.0755</td>\n",
       "      <td>50</td>\n",
       "    </tr>\n",
       "    <tr>\n",
       "      <th>130662</th>\n",
       "      <td>0.549</td>\n",
       "      <td>0.715</td>\n",
       "      <td>145827</td>\n",
       "      <td>0.734</td>\n",
       "      <td>0</td>\n",
       "      <td>3</td>\n",
       "      <td>0.108</td>\n",
       "      <td>-3.244</td>\n",
       "      <td>1</td>\n",
       "      <td>0.0367</td>\n",
       "      <td>130.128</td>\n",
       "      <td>3</td>\n",
       "      <td>0.976</td>\n",
       "      <td>55</td>\n",
       "    </tr>\n",
       "    <tr>\n",
       "      <th>130663</th>\n",
       "      <td>0.00583</td>\n",
       "      <td>0.743</td>\n",
       "      <td>238373</td>\n",
       "      <td>0.339</td>\n",
       "      <td>0</td>\n",
       "      <td>1</td>\n",
       "      <td>0.0812</td>\n",
       "      <td>-7.678</td>\n",
       "      <td>1</td>\n",
       "      <td>0.409</td>\n",
       "      <td>203.927</td>\n",
       "      <td>4</td>\n",
       "      <td>0.118</td>\n",
       "      <td>15</td>\n",
       "    </tr>\n",
       "  </tbody>\n",
       "</table>\n",
       "</div>"
      ],
      "text/plain": [
       "       acousticness danceability duration_ms energy instrumentalness key  \\\n",
       "130659        0.918        0.387      194583  0.249                0   9   \n",
       "130660         0.33        0.717      139191  0.532                0   8   \n",
       "130661       0.0079        0.772      180013   0.51                0   4   \n",
       "130662        0.549        0.715      145827  0.734                0   3   \n",
       "130663      0.00583        0.743      238373  0.339                0   1   \n",
       "\n",
       "       liveness loudness mode speechiness    tempo time_signature valence  \\\n",
       "130659    0.103  -13.233    1      0.0437   94.039              4   0.346   \n",
       "130660   0.0997   -8.351    0       0.206  156.977              4   0.546   \n",
       "130661    0.131    -9.67    0        0.12  120.049              4  0.0755   \n",
       "130662    0.108   -3.244    1      0.0367  130.128              3   0.976   \n",
       "130663   0.0812   -7.678    1       0.409  203.927              4   0.118   \n",
       "\n",
       "       popularity  \n",
       "130659         60  \n",
       "130660         47  \n",
       "130661         50  \n",
       "130662         55  \n",
       "130663         15  "
      ]
     },
     "execution_count": 103,
     "metadata": {},
     "output_type": "execute_result"
    }
   ],
   "source": [
    "dynamic_df = df2.drop(columns=['track_id'])\n",
    "print(dynamic_df.shape)\n",
    "dynamic_df.tail()"
   ]
  },
  {
   "cell_type": "markdown",
   "metadata": {
    "ExecuteTime": {
     "end_time": "2020-01-10T05:07:46.941200Z",
     "start_time": "2020-01-10T05:07:46.936217Z"
    }
   },
   "source": [
    "## Make Prediction for custom defined song"
   ]
  },
  {
   "cell_type": "code",
   "execution_count": 104,
   "metadata": {
    "ExecuteTime": {
     "end_time": "2020-01-10T05:24:18.195750Z",
     "start_time": "2020-01-10T05:24:17.379909Z"
    }
   },
   "outputs": [
    {
     "data": {
      "text/html": [
       "<div>\n",
       "<style scoped>\n",
       "    .dataframe tbody tr th:only-of-type {\n",
       "        vertical-align: middle;\n",
       "    }\n",
       "\n",
       "    .dataframe tbody tr th {\n",
       "        vertical-align: top;\n",
       "    }\n",
       "\n",
       "    .dataframe thead th {\n",
       "        text-align: right;\n",
       "    }\n",
       "</style>\n",
       "<table border=\"1\" class=\"dataframe\">\n",
       "  <thead>\n",
       "    <tr style=\"text-align: right;\">\n",
       "      <th></th>\n",
       "      <th>id</th>\n",
       "      <th>1</th>\n",
       "      <th>2</th>\n",
       "      <th>3</th>\n",
       "      <th>4</th>\n",
       "      <th>5</th>\n",
       "    </tr>\n",
       "  </thead>\n",
       "  <tbody>\n",
       "    <tr>\n",
       "      <th>0</th>\n",
       "      <td>any_song_id</td>\n",
       "      <td>2RM4jf1Xa9zPgMGRDiht8O</td>\n",
       "      <td>1rG9U7m2wqM0AVmZeIsdtz</td>\n",
       "      <td>56GWUZPELOP1nK4hQwfVVV</td>\n",
       "      <td>3UDOPqusSZZ7NqyWyMMk50</td>\n",
       "      <td>02s1Voowwhr0qTSOrMVEXk</td>\n",
       "    </tr>\n",
       "  </tbody>\n",
       "</table>\n",
       "</div>"
      ],
      "text/plain": [
       "            id                       1                       2  \\\n",
       "0  any_song_id  2RM4jf1Xa9zPgMGRDiht8O  1rG9U7m2wqM0AVmZeIsdtz   \n",
       "\n",
       "                        3                       4                       5  \n",
       "0  56GWUZPELOP1nK4hQwfVVV  3UDOPqusSZZ7NqyWyMMk50  02s1Voowwhr0qTSOrMVEXk  "
      ]
     },
     "execution_count": 104,
     "metadata": {},
     "output_type": "execute_result"
    }
   ],
   "source": [
    "from sklearn.preprocessing import RobustScaler\n",
    "from sklearn.neighbors import NearestNeighbors\n",
    "from sklearn.neighbors import KDTree\n",
    "scaler = RobustScaler()\n",
    "X = scaler.fit_transform(dynamic_df)\n",
    "model = KDTree(X)\n",
    "X_Prediction = np.array([X[-1]])\n",
    "X_Prediction\n",
    "dist, ind = model.query(X_Prediction, k=6)\n",
    "prediction_list = []\n",
    "for row in ind:\n",
    "    song_id = [df2.track_id[i] for i in row]\n",
    "    prediction_list.append(song_id)\n",
    "columns = ['id', '1', '2', '3', '4', '5']\n",
    "final_prediction = pd.DataFrame(prediction_list, columns=columns)\n",
    "final_prediction = final_prediction.drop_duplicates(subset=['id'], keep='first')\n",
    "final_prediction"
   ]
  },
  {
   "cell_type": "code",
   "execution_count": 105,
   "metadata": {
    "ExecuteTime": {
     "end_time": "2020-01-10T05:52:19.876135Z",
     "start_time": "2020-01-10T05:52:19.813651Z"
    }
   },
   "outputs": [
    {
     "data": {
      "text/plain": [
       "['2RM4jf1Xa9zPgMGRDiht8O',\n",
       " '1rG9U7m2wqM0AVmZeIsdtz',\n",
       " '56GWUZPELOP1nK4hQwfVVV',\n",
       " '3UDOPqusSZZ7NqyWyMMk50',\n",
       " '02s1Voowwhr0qTSOrMVEXk']"
      ]
     },
     "execution_count": 105,
     "metadata": {},
     "output_type": "execute_result"
    }
   ],
   "source": [
    "final_prediction.values.tolist()[0][1:]"
   ]
  },
  {
   "cell_type": "code",
   "execution_count": null,
   "metadata": {},
   "outputs": [],
   "source": []
  }
 ],
 "metadata": {
  "kernelspec": {
   "display_name": "Python 3",
   "language": "python",
   "name": "python3"
  },
  "language_info": {
   "codemirror_mode": {
    "name": "ipython",
    "version": 3
   },
   "file_extension": ".py",
   "mimetype": "text/x-python",
   "name": "python",
   "nbconvert_exporter": "python",
   "pygments_lexer": "ipython3",
   "version": "3.7.1"
  },
  "toc": {
   "base_numbering": 1,
   "nav_menu": {},
   "number_sections": true,
   "sideBar": true,
   "skip_h1_title": false,
   "title_cell": "Table of Contents",
   "title_sidebar": "Contents",
   "toc_cell": false,
   "toc_position": {},
   "toc_section_display": true,
   "toc_window_display": true
  }
 },
 "nbformat": 4,
 "nbformat_minor": 2
}
